{
 "cells": [
  {
   "cell_type": "markdown",
   "id": "feadd1a8",
   "metadata": {},
   "source": [
    "# Grip At The Sparks Foundation Internship"
   ]
  },
  {
   "cell_type": "markdown",
   "id": "433ef573",
   "metadata": {},
   "source": [
    "# Task:1 Prediction Using Supervised ML"
   ]
  },
  {
   "cell_type": "markdown",
   "id": "c42f5f85",
   "metadata": {},
   "source": [
    "### The task related dataset is available on the web url http://bit.ly/w-data. This dataset can be downloaded locally or can access directly in the code. Since iris dataset is a wellknown dats set available directly in the python library sklearn.datasets, I have imported the dataset from my drive in to my code "
   ]
  },
  {
   "cell_type": "markdown",
   "id": "8b28a5bf",
   "metadata": {},
   "source": [
    "## Name: Shyam Kumar Kamasani"
   ]
  },
  {
   "cell_type": "markdown",
   "id": "2ea522cc",
   "metadata": {},
   "source": [
    "### The first step is to import the libraries that are required for the implementation of the code operation.Here we import the Pandas to import and analyze data,NumPy to perform the multi-dimensional operation,matplotlib to perform graphical plot into the context."
   ]
  },
  {
   "cell_type": "code",
   "execution_count": 1,
   "id": "5807b9b4",
   "metadata": {},
   "outputs": [],
   "source": [
    "import pandas as pd\n",
    "import numpy as np\n",
    "import matplotlib.pyplot as plt"
   ]
  },
  {
   "cell_type": "markdown",
   "id": "7c70a370",
   "metadata": {},
   "source": [
    "### The next phase is to load the data into the program to perform the desired operation.Here we use the pandas to load the excel data and when data is successfully loaded,we print a statement  to get confirmation."
   ]
  },
  {
   "cell_type": "code",
   "execution_count": 2,
   "id": "6ec5ceef",
   "metadata": {},
   "outputs": [
    {
     "name": "stdout",
     "output_type": "stream",
     "text": [
      "Successfully imported data into console\n"
     ]
    }
   ],
   "source": [
    "data_load = pd.read_csv(\"D:\\dataset\\DataSet.csv\")  \n",
    "print(\"Successfully imported data into console\" )"
   ]
  },
  {
   "cell_type": "markdown",
   "id": "da2997f1",
   "metadata": {},
   "source": [
    "### Next is to view the data and so we are using the head() function."
   ]
  },
  {
   "cell_type": "code",
   "execution_count": 3,
   "id": "a99a31f1",
   "metadata": {},
   "outputs": [
    {
     "data": {
      "text/html": [
       "<div>\n",
       "<style scoped>\n",
       "    .dataframe tbody tr th:only-of-type {\n",
       "        vertical-align: middle;\n",
       "    }\n",
       "\n",
       "    .dataframe tbody tr th {\n",
       "        vertical-align: top;\n",
       "    }\n",
       "\n",
       "    .dataframe thead th {\n",
       "        text-align: right;\n",
       "    }\n",
       "</style>\n",
       "<table border=\"1\" class=\"dataframe\">\n",
       "  <thead>\n",
       "    <tr style=\"text-align: right;\">\n",
       "      <th></th>\n",
       "      <th>Hours</th>\n",
       "      <th>Scores</th>\n",
       "    </tr>\n",
       "  </thead>\n",
       "  <tbody>\n",
       "    <tr>\n",
       "      <th>0</th>\n",
       "      <td>2.5</td>\n",
       "      <td>21</td>\n",
       "    </tr>\n",
       "    <tr>\n",
       "      <th>1</th>\n",
       "      <td>5.1</td>\n",
       "      <td>47</td>\n",
       "    </tr>\n",
       "    <tr>\n",
       "      <th>2</th>\n",
       "      <td>3.2</td>\n",
       "      <td>27</td>\n",
       "    </tr>\n",
       "    <tr>\n",
       "      <th>3</th>\n",
       "      <td>8.5</td>\n",
       "      <td>75</td>\n",
       "    </tr>\n",
       "    <tr>\n",
       "      <th>4</th>\n",
       "      <td>3.5</td>\n",
       "      <td>30</td>\n",
       "    </tr>\n",
       "    <tr>\n",
       "      <th>5</th>\n",
       "      <td>1.5</td>\n",
       "      <td>20</td>\n",
       "    </tr>\n",
       "  </tbody>\n",
       "</table>\n",
       "</div>"
      ],
      "text/plain": [
       "   Hours  Scores\n",
       "0    2.5      21\n",
       "1    5.1      47\n",
       "2    3.2      27\n",
       "3    8.5      75\n",
       "4    3.5      30\n",
       "5    1.5      20"
      ]
     },
     "execution_count": 3,
     "metadata": {},
     "output_type": "execute_result"
    }
   ],
   "source": [
    "data_load.head(6)"
   ]
  },
  {
   "cell_type": "markdown",
   "id": "96bf3c7a",
   "metadata": {},
   "source": [
    "### The next phase is to enter distribution scores and plot them according to the requirement, here we are going to enter the title, x_label, and y_label, and show it according to the desired result."
   ]
  },
  {
   "cell_type": "code",
   "execution_count": 4,
   "id": "5ca1e3bf",
   "metadata": {},
   "outputs": [],
   "source": [
    "x = data_load.iloc[:, :-1].values    \n",
    "y = data_load.iloc[:, 1].values"
   ]
  },
  {
   "cell_type": "markdown",
   "id": "550c5e1c",
   "metadata": {},
   "source": [
    "### The split of data into the training and test sets is very important as in this time we will be using Scikit Learn's builtin method of train_test_split(), as below"
   ]
  },
  {
   "cell_type": "code",
   "execution_count": 5,
   "id": "da7e3b84",
   "metadata": {},
   "outputs": [],
   "source": [
    "from sklearn.model_selection import train_test_split    \n",
    "x_train, x_test, y_train, y_test = train_test_split(x, y,test_size=0.2, random_state=0)"
   ]
  },
  {
   "cell_type": "markdown",
   "id": "ab547471",
   "metadata": {},
   "source": [
    "\n",
    "### The very next process is to train the algorithm, thus the step include the following:"
   ]
  },
  {
   "cell_type": "code",
   "execution_count": 6,
   "id": "0db2171a",
   "metadata": {},
   "outputs": [
    {
     "name": "stdout",
     "output_type": "stream",
     "text": [
      "Trining ... Completed !.\n"
     ]
    }
   ],
   "source": [
    "from sklearn.linear_model import LinearRegression    \n",
    "regressor = LinearRegression()    \n",
    "regressor.fit(x_train, y_train) \n",
    "print(\"Trining ... Completed !.\")"
   ]
  },
  {
   "cell_type": "markdown",
   "id": "d42b7739",
   "metadata": {},
   "source": [
    "### The very next phase is to implement the plotting test data using"
   ]
  },
  {
   "cell_type": "code",
   "execution_count": 7,
   "id": "6694ea6d",
   "metadata": {},
   "outputs": [
    {
     "data": {
      "image/png": "[encoded data removed]",
      "text/plain": [
       "<Figure size 432x288 with 1 Axes>"
      ]
     },
     "metadata": {
      "needs_background": "light"
     },
     "output_type": "display_data"
    }
   ],
   "source": [
    "line = regressor.coef_*x+regressor.intercept_  \n",
    "plt.scatter(x, y)  \n",
    "plt.plot(x, line);  \n",
    "plt.show()"
   ]
  },
  {
   "cell_type": "markdown",
   "id": "a5123249",
   "metadata": {},
   "source": [
    "### Predicting the scores for the model is the next important step towards knowing our model,as we proceed as follows,"
   ]
  },
  {
   "cell_type": "code",
   "execution_count": 8,
   "id": "ac09e276",
   "metadata": {},
   "outputs": [
    {
     "name": "stdout",
     "output_type": "stream",
     "text": [
      "[[1.5]\n",
      " [3.2]\n",
      " [7.4]\n",
      " [2.5]\n",
      " [5.9]]\n"
     ]
    }
   ],
   "source": [
    "print(x_test)   \n",
    "y_pred = regressor.predict(x_test)"
   ]
  },
  {
   "cell_type": "markdown",
   "id": "aabd733d",
   "metadata": {},
   "source": [
    "### Comparing the actual versus predicted model to understand our model fitting"
   ]
  },
  {
   "cell_type": "code",
   "execution_count": 9,
   "id": "6cb0f1b6",
   "metadata": {},
   "outputs": [],
   "source": [
    "df = pd.DataFrame({'Actual': y_test, 'Predicted': y_pred})"
   ]
  },
  {
   "cell_type": "markdown",
   "id": "b38b168f",
   "metadata": {},
   "source": [
    "### Now it's time to test our model with sample testing hours, so in this case,we take 9.25 hours, i.e, if a student studies for 9.25 hours,approximately how many marks he can get based on the data we received and the model, we applied."
   ]
  },
  {
   "cell_type": "code",
   "execution_count": 10,
   "id": "47cc1c14",
   "metadata": {},
   "outputs": [
    {
     "name": "stdout",
     "output_type": "stream",
     "text": [
      "Number of hours = [[9.25]]\n",
      "Prediction Score = 93.69173248737535\n"
     ]
    }
   ],
   "source": [
    "hours = [[9.25]]  \n",
    "own_pred = regressor.predict(hours)  \n",
    "print(\"Number of hours = {}\".format(hours))  \n",
    "print(\"Prediction Score = {}\".format(own_pred[0]))"
   ]
  },
  {
   "cell_type": "markdown",
   "id": "741d1b5d",
   "metadata": {},
   "source": [
    "## Conclusion\n",
    "\n",
    "### Inorder to complete this GRIP-Task 1 , we have figured out the percentage of an student based on the no of study hours and predicted the score if a student studies for 9.25 hrs/day."
   ]
  },
  {
   "cell_type": "markdown",
   "id": "20d9150c",
   "metadata": {},
   "source": [
    "## Completed Task 1.\n",
    "### Thank you for going through this solution :)"
   ]
  },
  {
   "cell_type": "code",
   "execution_count": null,
   "id": "53b2b670",
   "metadata": {},
   "outputs": [],
   "source": []
  }
 ],
 "metadata": {
  "kernelspec": {
   "display_name": "Python 3 (ipykernel)",
   "language": "python",
   "name": "python3"
  },
  "language_info": {
   "codemirror_mode": {
    "name": "ipython",
    "version": 3
   },
   "file_extension": ".py",
   "mimetype": "text/x-python",
   "name": "python",
   "nbconvert_exporter": "python",
   "pygments_lexer": "ipython3",
   "version": "3.10.3"
  }
 },
 "nbformat": 4,
 "nbformat_minor": 5
}
